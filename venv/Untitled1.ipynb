{
 "cells": [
  {
   "cell_type": "code",
   "execution_count": 1,
   "id": "0d31394b-b3b7-4fa4-8c05-59a0493da775",
   "metadata": {},
   "outputs": [
    {
     "name": "stdout",
     "output_type": "stream",
     "text": [
      "Requirement already satisfied: pandas in c:\\users\\20155\\anaconda3\\lib\\site-packages (2.2.2)\n",
      "Requirement already satisfied: faker in c:\\users\\20155\\anaconda3\\lib\\site-packages (36.1.0)\n",
      "Requirement already satisfied: numpy>=1.26.0 in c:\\users\\20155\\anaconda3\\lib\\site-packages (from pandas) (1.26.4)\n",
      "Requirement already satisfied: python-dateutil>=2.8.2 in c:\\users\\20155\\anaconda3\\lib\\site-packages (from pandas) (2.9.0.post0)\n",
      "Requirement already satisfied: pytz>=2020.1 in c:\\users\\20155\\anaconda3\\lib\\site-packages (from pandas) (2024.1)\n",
      "Requirement already satisfied: tzdata>=2022.7 in c:\\users\\20155\\anaconda3\\lib\\site-packages (from pandas) (2023.3)\n",
      "Requirement already satisfied: six>=1.5 in c:\\users\\20155\\anaconda3\\lib\\site-packages (from python-dateutil>=2.8.2->pandas) (1.16.0)\n"
     ]
    }
   ],
   "source": [
    "!pip install pandas faker"
   ]
  },
  {
   "cell_type": "code",
   "execution_count": 3,
   "id": "2af4dcf2-5624-4d75-b37b-ee67d1d93cd6",
   "metadata": {},
   "outputs": [
    {
     "name": "stdout",
     "output_type": "stream",
     "text": [
      "✅ 100 records added and saved to heart_with_synthetic.csv\n"
     ]
    }
   ],
   "source": [
    "import pandas as pd\n",
    "import sqlite3\n",
    "from faker import Faker\n",
    "import random\n",
    "import numpy as np\n",
    "\n",
    "\n",
    "file_path = \"heart.csv\"\n",
    "df = pd.read_csv(file_path)\n",
    "\n",
    "\n",
    "age_range = (df[\"Age\"].min(), df[\"Age\"].max())\n",
    "resting_bp_range = (df[\"RestingBP\"].min(), df[\"RestingBP\"].max())\n",
    "cholesterol_range = (df[\"Cholesterol\"].min(), df[\"Cholesterol\"].max())\n",
    "max_hr_range = (df[\"MaxHR\"].min(), df[\"MaxHR\"].max())\n",
    "oldpeak_range = (df[\"Oldpeak\"].min(), df[\"Oldpeak\"].max())\n",
    "\n",
    "\n",
    "sex_values = df[\"Sex\"].unique().tolist()\n",
    "chest_pain_values = df[\"ChestPainType\"].unique().tolist()\n",
    "resting_ecg_values = df[\"RestingECG\"].unique().tolist()\n",
    "exercise_angina_values = df[\"ExerciseAngina\"].unique().tolist()\n",
    "st_slope_values = df[\"ST_Slope\"].unique().tolist()\n",
    "\n",
    "\n",
    "fake = Faker()\n",
    "num_new_samples = 100  \n",
    "\n",
    "synthetic_data = {\n",
    "    \"Age\": [random.randint(*age_range) for _ in range(num_new_samples)],\n",
    "    \"Sex\": [random.choice(sex_values) for _ in range(num_new_samples)],\n",
    "    \"ChestPainType\": [random.choice(chest_pain_values) for _ in range(num_new_samples)],\n",
    "    \"RestingBP\": [random.randint(*resting_bp_range) for _ in range(num_new_samples)],\n",
    "    \"Cholesterol\": [random.randint(*cholesterol_range) for _ in range(num_new_samples)],\n",
    "    \"FastingBS\": [random.choice([0, 1]) for _ in range(num_new_samples)],\n",
    "    \"RestingECG\": [random.choice(resting_ecg_values) for _ in range(num_new_samples)],\n",
    "    \"MaxHR\": [random.randint(*max_hr_range) for _ in range(num_new_samples)],\n",
    "    \"ExerciseAngina\": [random.choice(exercise_angina_values) for _ in range(num_new_samples)],\n",
    "    \"Oldpeak\": [round(random.uniform(*oldpeak_range), 1) for _ in range(num_new_samples)],\n",
    "    \"ST_Slope\": [random.choice(st_slope_values) for _ in range(num_new_samples)],\n",
    "    \"HeartDisease\": [random.choice([0, 1]) for _ in range(num_new_samples)]\n",
    "}\n",
    "\n",
    "df_synthetic = pd.DataFrame(synthetic_data)\n",
    "\n",
    "\n",
    "df_combined = pd.concat([df, df_synthetic], ignore_index=True)\n",
    "\n",
    "\n",
    "conn = sqlite3.connect(\"database.sqlite\")  \n",
    "\n",
    "df_combined.to_sql(\"heart_data\", conn, if_exists=\"replace\", index=False)\n",
    "conn.close()\n",
    "\n",
    "\n",
    "output_file_path = \"heart_with_synthetic.csv\"\n",
    "df_combined.to_csv(output_file_path, index=False)\n",
    "\n",
    "\n",
    "print(f\"✅ {num_new_samples} records added and saved to {output_file_path}\")\n",
    "\n"
   ]
  },
  {
   "cell_type": "code",
   "execution_count": null,
   "id": "1f986018-a256-42ee-8e01-ecd042d3146b",
   "metadata": {},
   "outputs": [],
   "source": []
  }
 ],
 "metadata": {
  "kernelspec": {
   "display_name": "Python [conda env:base]",
   "language": "python",
   "name": "conda-base-py"
  },
  "language_info": {
   "codemirror_mode": {
    "name": "ipython",
    "version": 3
   },
   "file_extension": ".py",
   "mimetype": "text/x-python",
   "name": "python",
   "nbconvert_exporter": "python",
   "pygments_lexer": "ipython3",
   "version": "3.12.7"
  }
 },
 "nbformat": 4,
 "nbformat_minor": 5
}
