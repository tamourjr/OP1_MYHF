{
 "cells": [
  {
   "cell_type": "code",
   "execution_count": 4,
   "id": "0d31394b-b3b7-4fa4-8c05-59a0493da775",
   "metadata": {},
   "outputs": [
    {
     "name": "stdout",
     "output_type": "stream",
     "text": [
      "Collecting pandas\n",
      "  Using cached pandas-2.2.3.tar.gz (4.4 MB)\n",
      "  Installing build dependencies: started\n",
      "  Installing build dependencies: finished with status 'done'\n",
      "  Getting requirements to build wheel: started\n",
      "  Getting requirements to build wheel: finished with status 'done'\n",
      "  Installing backend dependencies: started\n",
      "  Installing backend dependencies: finished with status 'done'\n",
      "  Preparing metadata (pyproject.toml): started\n",
      "  Preparing metadata (pyproject.toml): finished with status 'error'\n"
     ]
    },
    {
     "name": "stderr",
     "output_type": "stream",
     "text": [
      "  error: subprocess-exited-with-error\n",
      "  \n",
      "  × Preparing metadata (pyproject.toml) did not run successfully.\n",
      "  │ exit code: 1\n",
      "  ╰─> [12 lines of output]\n",
      "      + meson setup C:\\Users\\20155\\AppData\\Local\\Temp\\pip-install-zpwal4_2\\pandas_3143a0685f7e446d862ea5f9804560b7 C:\\Users\\20155\\AppData\\Local\\Temp\\pip-install-zpwal4_2\\pandas_3143a0685f7e446d862ea5f9804560b7\\.mesonpy-j486l65z\\build -Dbuildtype=release -Db_ndebug=if-release -Db_vscrt=md --vsenv --native-file=C:\\Users\\20155\\AppData\\Local\\Temp\\pip-install-zpwal4_2\\pandas_3143a0685f7e446d862ea5f9804560b7\\.mesonpy-j486l65z\\build\\meson-python-native-file.ini\n",
      "      The Meson build system\n",
      "      Version: 1.2.1\n",
      "      Source dir: C:\\Users\\20155\\AppData\\Local\\Temp\\pip-install-zpwal4_2\\pandas_3143a0685f7e446d862ea5f9804560b7\n",
      "      Build dir: C:\\Users\\20155\\AppData\\Local\\Temp\\pip-install-zpwal4_2\\pandas_3143a0685f7e446d862ea5f9804560b7\\.mesonpy-j486l65z\\build\n",
      "      Build type: native build\n",
      "      Project name: pandas\n",
      "      Project version: 2.2.3\n",
      "      \n",
      "      ..\\..\\meson.build:2:0: ERROR: Could not parse vswhere.exe output\n",
      "      \n",
      "      A full log can be found at C:\\Users\\20155\\AppData\\Local\\Temp\\pip-install-zpwal4_2\\pandas_3143a0685f7e446d862ea5f9804560b7\\.mesonpy-j486l65z\\build\\meson-logs\\meson-log.txt\n",
      "      [end of output]\n",
      "  \n",
      "  note: This error originates from a subprocess, and is likely not a problem with pip.\n",
      "\n",
      "[notice] A new release of pip is available: 24.3.1 -> 25.0.1\n",
      "[notice] To update, run: C:\\Users\\20155\\my_project\\venv\\Scripts\\python.exe -m pip install --upgrade pip\n",
      "error: metadata-generation-failed\n",
      "\n",
      "× Encountered error while generating package metadata.\n",
      "╰─> See above for output.\n",
      "\n",
      "note: This is an issue with the package mentioned above, not pip.\n",
      "hint: See above for details.\n"
     ]
    }
   ],
   "source": [
    "!pip install pandas faker"
   ]
  },
  {
   "cell_type": "code",
   "execution_count": null,
   "id": "2af4dcf2-5624-4d75-b37b-ee67d1d93cd6",
   "metadata": {},
   "outputs": [
    {
     "ename": "ModuleNotFoundError",
     "evalue": "No module named 'pandas'",
     "output_type": "error",
     "traceback": [
      "\u001b[1;31m---------------------------------------------------------------------------\u001b[0m",
      "\u001b[1;31mModuleNotFoundError\u001b[0m                       Traceback (most recent call last)",
      "Cell \u001b[1;32mIn[6], line 1\u001b[0m\n\u001b[1;32m----> 1\u001b[0m \u001b[38;5;28;01mimport\u001b[39;00m\u001b[38;5;250m \u001b[39m\u001b[38;5;21;01mpandas\u001b[39;00m\u001b[38;5;250m \u001b[39m\u001b[38;5;28;01mas\u001b[39;00m\u001b[38;5;250m \u001b[39m\u001b[38;5;21;01mpd\u001b[39;00m\n\u001b[0;32m      2\u001b[0m \u001b[38;5;28;01mimport\u001b[39;00m\u001b[38;5;250m \u001b[39m\u001b[38;5;21;01msqlite3\u001b[39;00m\n\u001b[0;32m      3\u001b[0m \u001b[38;5;28;01mfrom\u001b[39;00m\u001b[38;5;250m \u001b[39m\u001b[38;5;21;01mfaker\u001b[39;00m\u001b[38;5;250m \u001b[39m\u001b[38;5;28;01mimport\u001b[39;00m Faker\n",
      "\u001b[1;31mModuleNotFoundError\u001b[0m: No module named 'pandas'"
     ]
    }
   ],
   "source": [
    "import pandas as pd\n",
    "import sqlite3\n",
    "from faker import Faker\n",
    "import random\n",
    "import numpy as np\n",
    "\n",
    "\n",
    "file_path = \"heart.csv\"\n",
    "df = pd.read_csv(file_path)\n",
    "\n",
    "\n",
    "age_range = (df[\"Age\"].min(), df[\"Age\"].max())\n",
    "resting_bp_range = (df[\"RestingBP\"].min(), df[\"RestingBP\"].max())\n",
    "cholesterol_range = (df[\"Cholesterol\"].min(), df[\"Cholesterol\"].max())\n",
    "max_hr_range = (df[\"MaxHR\"].min(), df[\"MaxHR\"].max())\n",
    "oldpeak_range = (df[\"Oldpeak\"].min(), df[\"Oldpeak\"].max())\n",
    "\n",
    "\n",
    "sex_values = df[\"Sex\"].unique().tolist()\n",
    "chest_pain_values = df[\"ChestPainType\"].unique().tolist()\n",
    "resting_ecg_values = df[\"RestingECG\"].unique().tolist()\n",
    "exercise_angina_values = df[\"ExerciseAngina\"].unique().tolist()\n",
    "st_slope_values = df[\"ST_Slope\"].unique().tolist()\n",
    "\n",
    "\n",
    "fake = Faker()\n",
    "num_new_samples = 100  \n",
    "\n",
    "synthetic_data = {\n",
    "    \"Age\": [random.randint(*age_range) for _ in range(num_new_samples)],\n",
    "    \"Sex\": [random.choice(sex_values) for _ in range(num_new_samples)],\n",
    "    \"ChestPainType\": [random.choice(chest_pain_values) for _ in range(num_new_samples)],\n",
    "    \"RestingBP\": [random.randint(*resting_bp_range) for _ in range(num_new_samples)],\n",
    "    \"Cholesterol\": [random.randint(*cholesterol_range) for _ in range(num_new_samples)],\n",
    "    \"FastingBS\": [random.choice([0, 1]) for _ in range(num_new_samples)],\n",
    "    \"RestingECG\": [random.choice(resting_ecg_values) for _ in range(num_new_samples)],\n",
    "    \"MaxHR\": [random.randint(*max_hr_range) for _ in range(num_new_samples)],\n",
    "    \"ExerciseAngina\": [random.choice(exercise_angina_values) for _ in range(num_new_samples)],\n",
    "    \"Oldpeak\": [round(random.uniform(*oldpeak_range), 1) for _ in range(num_new_samples)],\n",
    "    \"ST_Slope\": [random.choice(st_slope_values) for _ in range(num_new_samples)],\n",
    "    \"HeartDisease\": [random.choice([0, 1]) for _ in range(num_new_samples)]\n",
    "}\n",
    "\n",
    "df_synthetic = pd.DataFrame(synthetic_data)\n",
    "\n",
    "\n",
    "df_combined = pd.concat([df, df_synthetic], ignore_index=True)\n",
    "\n",
    "\n",
    "conn = sqlite3.connect(\"database.sqlite\")  \n",
    "\n",
    "df_combined.to_sql(\"heart_data\", conn, if_exists=\"replace\", index=False)\n",
    "conn.close()\n",
    "\n",
    "\n",
    "output_file_path = \"heart_with_synthetic.csv\"\n",
    "df_combined.to_csv(output_file_path, index=False)\n",
    "\n",
    "\n",
    "print(f\"✅ {num_new_samples} records added and saved to {output_file_path}\")\n",
    "\n"
   ]
  },
  {
   "cell_type": "code",
   "execution_count": null,
   "id": "1f986018-a256-42ee-8e01-ecd042d3146b",
   "metadata": {},
   "outputs": [],
   "source": []
  }
 ],
 "metadata": {
  "kernelspec": {
   "display_name": "venv",
   "language": "python",
   "name": "python3"
  },
  "language_info": {
   "codemirror_mode": {
    "name": "ipython",
    "version": 3
   },
   "file_extension": ".py",
   "mimetype": "text/x-python",
   "name": "python",
   "nbconvert_exporter": "python",
   "pygments_lexer": "ipython3",
   "version": "3.12.8"
  }
 },
 "nbformat": 4,
 "nbformat_minor": 5
}
